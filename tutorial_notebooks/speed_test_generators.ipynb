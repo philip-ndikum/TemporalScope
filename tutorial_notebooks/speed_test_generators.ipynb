{
 "cells": [
  {
   "cell_type": "code",
   "execution_count": 10,
   "id": "c34c2376-3c80-4983-99db-ea52a0de3323",
   "metadata": {
    "tags": []
   },
   "outputs": [
    {
     "name": "stdout",
     "output_type": "stream",
     "text": [
      "shape: (5, 2)\n",
      "┌─────┬─────┐\n",
      "│ A   ┆ B   │\n",
      "│ --- ┆ --- │\n",
      "│ i64 ┆ str │\n",
      "╞═════╪═════╡\n",
      "│ 1   ┆ a   │\n",
      "│ 2   ┆ b   │\n",
      "│ 3   ┆ c   │\n",
      "│ 4   ┆ d   │\n",
      "│ 5   ┆ e   │\n",
      "└─────┴─────┘\n"
     ]
    }
   ],
   "source": [
    "import polars as pl\n",
    "\n",
    "# Create a simple DataFrame\n",
    "df = pl.DataFrame({\n",
    "    \"A\": [1, 2, 3, 4, 5],\n",
    "    \"B\": [\"a\", \"b\", \"c\", \"d\", \"e\"]\n",
    "})\n",
    "\n",
    "print(df)"
   ]
  },
  {
   "cell_type": "code",
   "execution_count": 11,
   "id": "5e882bf0-74f5-4e8f-812a-ccedbe902cd2",
   "metadata": {
    "tags": []
   },
   "outputs": [
    {
     "name": "stdout",
     "output_type": "stream",
     "text": [
      "shape: (10, 2)\n",
      "┌────────────┬───────┐\n",
      "│ date       ┆ value │\n",
      "│ ---        ┆ ---   │\n",
      "│ date       ┆ i64   │\n",
      "╞════════════╪═══════╡\n",
      "│ 2021-01-01 ┆ 0     │\n",
      "│ 2021-01-02 ┆ 1     │\n",
      "│ 2021-01-03 ┆ 2     │\n",
      "│ 2021-01-04 ┆ 3     │\n",
      "│ 2021-01-05 ┆ 4     │\n",
      "│ 2021-01-06 ┆ 5     │\n",
      "│ 2021-01-07 ┆ 6     │\n",
      "│ 2021-01-08 ┆ 7     │\n",
      "│ 2021-01-09 ┆ 8     │\n",
      "│ 2021-01-10 ┆ 9     │\n",
      "└────────────┴───────┘\n"
     ]
    }
   ],
   "source": [
    "import polars as pl\n",
    "from datetime import date\n",
    "\n",
    "df = pl.DataFrame({\n",
    "    \"date\": [date(2021, 1, i) for i in range(1, 11)],\n",
    "    \"value\": list(range(10))\n",
    "})\n",
    "\n",
    "print(df)"
   ]
  },
  {
   "cell_type": "code",
   "execution_count": null,
   "id": "1f24851c-443d-4c2e-9251-6f83fffdf8e1",
   "metadata": {},
   "outputs": [],
   "source": []
  }
 ],
 "metadata": {
  "kernelspec": {
   "display_name": "TemporalScope",
   "language": "python",
   "name": "temporalscope-kernel"
  },
  "language_info": {
   "codemirror_mode": {
    "name": "ipython",
    "version": 3
   },
   "file_extension": ".py",
   "mimetype": "text/x-python",
   "name": "python",
   "nbconvert_exporter": "python",
   "pygments_lexer": "ipython3",
   "version": "3.11.7"
  }
 },
 "nbformat": 4,
 "nbformat_minor": 5
}
