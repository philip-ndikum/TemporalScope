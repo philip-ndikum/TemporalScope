{
 "cells": [
  {
   "cell_type": "markdown",
   "metadata": {},
   "source": [
    "# TemporalScope Tutorial: TimeFrame and Backend-Agnostic Data Loading\n",
    "\n",
    "## TimeFrame Modes\n",
    "\n",
    "The `TimeFrame` class supports two key modes for handling temporal data:\n",
    "\n",
    "1. **Implicit & Static Time Series** (Default Mode):\n",
    "   - Time column is treated as a feature for static modeling\n",
    "   - Supports mixed-frequency workflows\n",
    "   - No strict temporal ordering enforced\n",
    "   - Use when: Building ML models where time is just another feature\n",
    "   - Example: `enforce_temporal_uniqueness=False` (default)\n",
    "\n",
    "2. **Strict Time Series**:\n",
    "   - Enforces strict temporal ordering and uniqueness\n",
    "   - Suitable for forecasting tasks\n",
    "   - Can validate by groups using `id_col`\n",
    "   - Use when: Building forecasting models requiring temporal integrity\n",
    "   - Example: `enforce_temporal_uniqueness=True`\n",
    "\n",
    "## Engineering Design Overview\n",
    "\n",
    "The `TimeFrame` class uses Narwhals for backend-agnostic DataFrame operations and is designed with several key assumptions:\n",
    "\n",
    "1. **Preprocessed Data Assumption**:\n",
    "   - TemporalScope assumes users provide clean, preprocessed data\n",
    "   - Similar to TensorFlow and GluonTS, preprocessing should be handled before using TemporalScope\n",
    "\n",
    "2. **Time Column Constraints**:\n",
    "   - `time_col` must be numeric index or timestamp\n",
    "   - Critical for operations like sliding window partitioning and temporal XAI\n",
    "\n",
    "3. **Numeric Features Requirement**:\n",
    "   - All features (except `time_col`) must be numeric\n",
    "   - Ensures compatibility with ML models and XAI techniques\n",
    "\n",
    "4. **Universal Model Assumption**:\n",
    "   - Models operate on entire dataset without hidden groupings\n",
    "   - Enables seamless integration with SHAP, Boruta-SHAP, and LIME\n",
    "\n",
    "## Backend Support\n",
    "\n",
    "TemporalScope leverages Narwhals for backend-agnostic operations, supporting:\n",
    "\n",
    "- **Production Environment**:\n",
    "  - `pandas`: Core DataFrame library (default)\n",
    "  - `narwhals`: Backend-agnostic operations\n",
    "\n",
    "- **Test Environment** (via hatch):\n",
    "  - `modin`: Parallelized Pandas operations\n",
    "  - `pyarrow`: Apache Arrow-based processing\n",
    "  - `polars`: High-performance Rust implementation\n",
    "  - `dask`: Distributed computing framework\n",
    "\n",
    "This separation ensures lightweight production deployments while maintaining robust testing across backends."
   ]
  },
  {
   "cell_type": "code",
   "execution_count": 1,
   "metadata": {},
   "outputs": [
    {
     "name": "stdout",
     "output_type": "stream",
     "text": [
      "======================================================================\n",
      "Loading dataset: 'macrodata'\n",
      "======================================================================\n",
      "DataFrame shape: (203, 13)\n",
      "Target column: realgdp\n",
      "======================================================================\n",
      "TimeFrame Configuration:\n",
      "Mode: single_target\n",
      "Sort Order: Ascending\n",
      "\n",
      "Data Preview:\n",
      "    realgdp  realcons  realinv  realgovt  realdpi    cpi     m1  tbilrate  \\\n",
      "0  2710.349    1707.4  286.898   470.045   1886.9  28.98  139.7      2.82   \n",
      "1  2778.801    1733.7  310.859   481.301   1919.7  29.15  141.7      3.08   \n",
      "2  2775.488    1751.8  289.226   491.260   1916.4  29.35  140.5      3.82   \n",
      "3  2785.204    1753.7  299.356   484.052   1931.3  29.37  140.0      4.33   \n",
      "4  2847.699    1770.5  331.722   462.199   1955.5  29.54  139.6      3.50   \n",
      "\n",
      "   unemp      pop  infl  realint         ds  \n",
      "0    5.8  177.146  0.00     0.00 1959-01-01  \n",
      "1    5.1  177.830  2.34     0.74 1959-04-01  \n",
      "2    5.3  178.657  2.74     1.09 1959-07-01  \n",
      "3    5.6  179.386  0.27     4.06 1959-10-01  \n",
      "4    5.2  180.007  2.31     1.19 1960-01-01  \n"
     ]
    }
   ],
   "source": [
    "import pandas as pd\n",
    "import narwhals as nw\n",
    "\n",
    "from temporalscope.core.temporal_data_loader import TimeFrame\n",
    "from temporalscope.datasets.datasets import DatasetLoader\n",
    "\n",
    "# Load example data\n",
    "loader = DatasetLoader(\"macrodata\")\n",
    "data = loader.load_data()\n",
    "\n",
    "# Create TimeFrame (default mode: time as static feature)\n",
    "tf = TimeFrame(data, time_col=\"ds\", target_col=\"realgdp\")\n",
    "\n",
    "# Display configuration\n",
    "print(\"TimeFrame Configuration:\")\n",
    "print(f\"Mode: {tf.mode}\")\n",
    "print(f\"Sort Order: {'Ascending' if tf.ascending else 'Descending'}\")\n",
    "\n",
    "# Preview data\n",
    "print(\"\\nData Preview:\")\n",
    "print(tf.df.head())"
   ]
  },
  {
   "cell_type": "markdown",
   "metadata": {},
   "source": [
    "## Example: Group-Level Temporal Uniqueness\n",
    "\n",
    "TimeFrame supports validation of temporal uniqueness at the group level, essential for multi-entity time series applications:"
   ]
  },
  {
   "cell_type": "code",
   "execution_count": 2,
   "metadata": {},
   "outputs": [
    {
     "name": "stdout",
     "output_type": "stream",
     "text": [
      "Data with valid temporal uniqueness within groups:\n",
      "   id  time  feature  target\n",
      "0   1     1      0.1      10\n",
      "2   2     1      0.3      30\n",
      "1   1     2      0.2      20\n",
      "3   2     3      0.4      40\n"
     ]
    }
   ],
   "source": [
    "# Create sample multi-entity data\n",
    "df = pd.DataFrame(\n",
    "    {\n",
    "        \"id\": [1, 1, 2, 2],\n",
    "        \"time\": [1, 2, 1, 3],  # Note: Different groups can share timestamps\n",
    "        \"feature\": [0.1, 0.2, 0.3, 0.4],\n",
    "        \"target\": [10, 20, 30, 40],\n",
    "    }\n",
    ")\n",
    "\n",
    "# Create TimeFrame with group-level temporal validation\n",
    "tf = TimeFrame(df, time_col=\"time\", target_col=\"target\", enforce_temporal_uniqueness=True, id_col=\"id\")\n",
    "\n",
    "print(\"Data with valid temporal uniqueness within groups:\")\n",
    "print(tf.df)"
   ]
  },
  {
   "cell_type": "markdown",
   "metadata": {},
   "source": [
    "## Example: TimeFrame Metadata\n",
    "\n",
    "TimeFrame includes a metadata container for extensibility and future ML framework integrations:"
   ]
  },
  {
   "cell_type": "code",
   "execution_count": 3,
   "metadata": {},
   "outputs": [
    {
     "name": "stdout",
     "output_type": "stream",
     "text": [
      "TimeFrame Metadata:\n",
      "{'model_config': {'type': 'LSTM', 'framework': 'PyTorch', 'hyperparameters': {'hidden_size': 64, 'num_layers': 2}}}\n"
     ]
    }
   ],
   "source": [
    "# Store custom metadata\n",
    "tf.metadata[\"model_config\"] = {\n",
    "    \"type\": \"LSTM\",\n",
    "    \"framework\": \"PyTorch\",\n",
    "    \"hyperparameters\": {\"hidden_size\": 64, \"num_layers\": 2},\n",
    "}\n",
    "\n",
    "print(\"TimeFrame Metadata:\")\n",
    "print(tf.metadata)"
   ]
  },
  {
   "cell_type": "code",
   "execution_count": null,
   "metadata": {},
   "outputs": [],
   "source": []
  }
 ],
 "metadata": {
  "kernelspec": {
   "display_name": "test",
   "language": "python",
   "name": "python3"
  },
  "language_info": {
   "codemirror_mode": {
    "name": "ipython",
    "version": 3
   },
   "file_extension": ".py",
   "mimetype": "text/x-python",
   "name": "python",
   "nbconvert_exporter": "python",
   "pygments_lexer": "ipython3",
   "version": "3.11.10"
  }
 },
 "nbformat": 4,
 "nbformat_minor": 4
}
