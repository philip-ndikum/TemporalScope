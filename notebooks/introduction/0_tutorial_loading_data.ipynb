{
 "cells": [
  {
   "cell_type": "code",
   "execution_count": 1,
   "metadata": {
    "tags": []
   },
   "outputs": [
    {
     "name": "stdout",
     "output_type": "stream",
     "text": [
      "Pandas backend initialized successfully with the macrodata dataset.\n",
      "======================================================================\n",
      "Preview of the Pandas DataFrame (macrodata):\n",
      "{\"columns\":[\"year\",\"quarter\",\"realgdp\",\"realcons\",\"realinv\",\"realgovt\",\"realdpi\",\"cpi\",\"m1\",\"tbilrate\",\"unemp\",\"pop\",\"infl\",\"realint\",\"time\"],\"data\":[[1959.0,1.0,2710.349,1707.4,286.898,470.045,1886.9,28.98,139.7,2.82,5.8,177.146,0.0,0.0,-339465600000],[1959.0,2.0,2778.801,1733.7,310.859,481.301,1919.7,29.15,141.7,3.08,5.1,177.83,2.34,0.74,-331603200000],[1959.0,3.0,2775.488,1751.8,289.226,491.26,1916.4,29.35,140.5,3.82,5.3,178.657,2.74,1.09,-323654400000],[1959.0,4.0,2785.204,1753.7,299.356,484.052,1931.3,29.37,140.0,4.33,5.6,179.386,0.27,4.06,-315705600000],[1960.0,1.0,2847.699,1770.5,331.722,462.199,1955.5,29.54,139.6,3.5,5.2,180.007,2.31,1.19,-307843200000]]}\n",
      "======================================================================\n",
      "Polars backend initialized successfully with the macrodata dataset.\n",
      "======================================================================\n",
      "Preview of the Polars DataFrame (macrodata):\n",
      "{'year': [1959.0, 1959.0, 1959.0, 1959.0, 1960.0], 'quarter': [1.0, 2.0, 3.0, 4.0, 1.0], 'realgdp': [2710.349, 2778.801, 2775.488, 2785.204, 2847.699], 'realcons': [1707.4, 1733.7, 1751.8, 1753.7, 1770.5], 'realinv': [286.898, 310.859, 289.226, 299.356, 331.722], 'realgovt': [470.045, 481.301, 491.26, 484.052, 462.199], 'realdpi': [1886.9, 1919.7, 1916.4, 1931.3, 1955.5], 'cpi': [28.98, 29.15, 29.35, 29.37, 29.54], 'm1': [139.7, 141.7, 140.5, 140.0, 139.6], 'tbilrate': [2.82, 3.08, 3.82, 4.33, 3.5], 'unemp': [5.8, 5.1, 5.3, 5.6, 5.2], 'pop': [177.146, 177.83, 178.657, 179.386, 180.007], 'infl': [0.0, 2.34, 2.74, 0.27, 2.31], 'realint': [0.0, 0.74, 1.09, 4.06, 1.19], 'time': [datetime.datetime(1959, 3, 31, 0, 0), datetime.datetime(1959, 6, 30, 0, 0), datetime.datetime(1959, 9, 30, 0, 0), datetime.datetime(1959, 12, 31, 0, 0), datetime.datetime(1960, 3, 31, 0, 0)]}\n",
      "======================================================================\n",
      "Pandas backend initialized with target column renamed to 'y'.\n",
      "======================================================================\n",
      "Preview of the Pandas DataFrame with renamed target (macrodata):\n",
      "{\"columns\":[\"year\",\"quarter\",\"y\",\"realcons\",\"realinv\",\"realgovt\",\"realdpi\",\"cpi\",\"m1\",\"tbilrate\",\"unemp\",\"pop\",\"infl\",\"realint\",\"time\"],\"data\":[[1959.0,1.0,2710.349,1707.4,286.898,470.045,1886.9,28.98,139.7,2.82,5.8,177.146,0.0,0.0,-339465600000],[1959.0,2.0,2778.801,1733.7,310.859,481.301,1919.7,29.15,141.7,3.08,5.1,177.83,2.34,0.74,-331603200000],[1959.0,3.0,2775.488,1751.8,289.226,491.26,1916.4,29.35,140.5,3.82,5.3,178.657,2.74,1.09,-323654400000],[1959.0,4.0,2785.204,1753.7,299.356,484.052,1931.3,29.37,140.0,4.33,5.6,179.386,0.27,4.06,-315705600000],[1960.0,1.0,2847.699,1770.5,331.722,462.199,1955.5,29.54,139.6,3.5,5.2,180.007,2.31,1.19,-307843200000]]}\n",
      "======================================================================\n",
      "Polars backend initialized with target column renamed to 'y'.\n",
      "======================================================================\n",
      "Preview of the Polars DataFrame with renamed target (macrodata):\n",
      "{'year': [1959.0, 1959.0, 1959.0, 1959.0, 1960.0], 'quarter': [1.0, 2.0, 3.0, 4.0, 1.0], 'y': [2710.349, 2778.801, 2775.488, 2785.204, 2847.699], 'realcons': [1707.4, 1733.7, 1751.8, 1753.7, 1770.5], 'realinv': [286.898, 310.859, 289.226, 299.356, 331.722], 'realgovt': [470.045, 481.301, 491.26, 484.052, 462.199], 'realdpi': [1886.9, 1919.7, 1916.4, 1931.3, 1955.5], 'cpi': [28.98, 29.15, 29.35, 29.37, 29.54], 'm1': [139.7, 141.7, 140.5, 140.0, 139.6], 'tbilrate': [2.82, 3.08, 3.82, 4.33, 3.5], 'unemp': [5.8, 5.1, 5.3, 5.6, 5.2], 'pop': [177.146, 177.83, 178.657, 179.386, 180.007], 'infl': [0.0, 2.34, 2.74, 0.27, 2.31], 'realint': [0.0, 0.74, 1.09, 4.06, 1.19], 'time': [datetime.datetime(1959, 3, 31, 0, 0), datetime.datetime(1959, 6, 30, 0, 0), datetime.datetime(1959, 9, 30, 0, 0), datetime.datetime(1959, 12, 31, 0, 0), datetime.datetime(1960, 3, 31, 0, 0)]}\n",
      "======================================================================\n"
     ]
    }
   ],
   "source": [
    "import polars as pl\n",
    "import pandas as pd\n",
    "from statsmodels.datasets import macrodata\n",
    "from temporalscope.core.temporal_data_loader import TimeFrame as tf\n",
    "from temporalscope.core.utils import (\n",
    "    print_divider,\n",
    ")  # Importing the print_divider function\n",
    "\n",
    "# Load the macrodata dataset from statsmodels\n",
    "macro_df = macrodata.load_pandas().data\n",
    "\n",
    "# Add a 'time' column for consistency\n",
    "macro_df[\"time\"] = pd.date_range(start=\"1959-01-01\", periods=len(macro_df), freq=\"QE\")\n",
    "\n",
    "# Specify the target column\n",
    "target_col = \"realgdp\"\n",
    "\n",
    "# Initialize TimeFrame with the macrodata dataset using Pandas backend\n",
    "macro_tf_pandas = tf(macro_df, time_col=\"time\", target_col=target_col, backend=\"pandas\")\n",
    "\n",
    "# Verify that the loader was initialized correctly with Pandas backend\n",
    "assert macro_tf_pandas.backend == \"pandas\"\n",
    "assert macro_tf_pandas.time_col == \"time\"\n",
    "assert macro_tf_pandas.target_col == target_col\n",
    "print(\"Pandas backend initialized successfully with the macrodata dataset.\")\n",
    "\n",
    "# Preview the DataFrame\n",
    "print_divider()\n",
    "print(\"Preview of the Pandas DataFrame (macrodata):\")\n",
    "print(macro_tf_pandas.get_data().head().to_json(orient=\"split\", index=False))\n",
    "print_divider()\n",
    "\n",
    "# Convert the macrodata DataFrame to a Polars DataFrame\n",
    "macro_df_polars = pl.DataFrame(macro_df)\n",
    "\n",
    "# Initialize TimeFrame with the macrodata dataset using Polars backend\n",
    "macro_tf_polars = tf(\n",
    "    macro_df_polars, time_col=\"time\", target_col=target_col, backend=\"polars\"\n",
    ")\n",
    "\n",
    "# Verify that the loader was initialized correctly with Polars backend\n",
    "assert macro_tf_polars.backend == \"polars\"\n",
    "assert macro_tf_polars.time_col == \"time\"\n",
    "assert macro_tf_polars.target_col == target_col\n",
    "print(\"Polars backend initialized successfully with the macrodata dataset.\")\n",
    "\n",
    "# Preview the DataFrame\n",
    "print_divider()\n",
    "print(\"Preview of the Polars DataFrame (macrodata):\")\n",
    "print(\n",
    "    macro_tf_polars.get_data().head().to_dict(as_series=False)\n",
    ")  # Polars does not have .to_json(), using .to_dict() as alternative\n",
    "print_divider()\n",
    "\n",
    "# Initialize TimeFrame with rename_target set to True (Pandas backend)\n",
    "macro_tf_pandas_rename = tf(\n",
    "    macro_df,\n",
    "    time_col=\"time\",\n",
    "    target_col=target_col,\n",
    "    backend=\"pandas\",\n",
    "    rename_target=True,\n",
    ")\n",
    "\n",
    "# Verify that the target column has been renamed to 'y'\n",
    "assert \"y\" in macro_tf_pandas_rename.get_data().columns\n",
    "print(\"Pandas backend initialized with target column renamed to 'y'.\")\n",
    "\n",
    "# Preview the DataFrame with renamed target\n",
    "print_divider()\n",
    "print(\"Preview of the Pandas DataFrame with renamed target (macrodata):\")\n",
    "print(macro_tf_pandas_rename.get_data().head().to_json(orient=\"split\", index=False))\n",
    "print_divider()\n",
    "\n",
    "# Initialize TimeFrame with rename_target set to True (Polars backend)\n",
    "macro_tf_polars_rename = tf(\n",
    "    macro_df_polars,\n",
    "    time_col=\"time\",\n",
    "    target_col=target_col,\n",
    "    backend=\"polars\",\n",
    "    rename_target=True,\n",
    ")\n",
    "\n",
    "# Verify that the target column has been renamed to 'y'\n",
    "assert \"y\" in macro_tf_polars_rename.get_data().columns\n",
    "print(\"Polars backend initialized with target column renamed to 'y'.\")\n",
    "\n",
    "# Preview the DataFrame with renamed target\n",
    "print_divider()\n",
    "print(\"Preview of the Polars DataFrame with renamed target (macrodata):\")\n",
    "print(\n",
    "    macro_tf_polars_rename.get_data().head().to_dict(as_series=False)\n",
    ")  # Polars does not have .to_json(), using .to_dict() as alternative\n",
    "print_divider()"
   ]
  },
  {
   "cell_type": "code",
   "execution_count": 2,
   "metadata": {},
   "outputs": [
    {
     "data": {
      "text/html": [
       "<div><style>\n",
       ".dataframe > thead > tr,\n",
       ".dataframe > tbody > tr {\n",
       "  text-align: right;\n",
       "  white-space: pre-wrap;\n",
       "}\n",
       "</style>\n",
       "<small>shape: (203, 15)</small><table border=\"1\" class=\"dataframe\"><thead><tr><th>year</th><th>quarter</th><th>realgdp</th><th>realcons</th><th>realinv</th><th>realgovt</th><th>realdpi</th><th>cpi</th><th>m1</th><th>tbilrate</th><th>unemp</th><th>pop</th><th>infl</th><th>realint</th><th>time</th></tr><tr><td>f64</td><td>f64</td><td>f64</td><td>f64</td><td>f64</td><td>f64</td><td>f64</td><td>f64</td><td>f64</td><td>f64</td><td>f64</td><td>f64</td><td>f64</td><td>f64</td><td>datetime[ns]</td></tr></thead><tbody><tr><td>1959.0</td><td>1.0</td><td>2710.349</td><td>1707.4</td><td>286.898</td><td>470.045</td><td>1886.9</td><td>28.98</td><td>139.7</td><td>2.82</td><td>5.8</td><td>177.146</td><td>0.0</td><td>0.0</td><td>1959-03-31 00:00:00</td></tr><tr><td>1959.0</td><td>2.0</td><td>2778.801</td><td>1733.7</td><td>310.859</td><td>481.301</td><td>1919.7</td><td>29.15</td><td>141.7</td><td>3.08</td><td>5.1</td><td>177.83</td><td>2.34</td><td>0.74</td><td>1959-06-30 00:00:00</td></tr><tr><td>1959.0</td><td>3.0</td><td>2775.488</td><td>1751.8</td><td>289.226</td><td>491.26</td><td>1916.4</td><td>29.35</td><td>140.5</td><td>3.82</td><td>5.3</td><td>178.657</td><td>2.74</td><td>1.09</td><td>1959-09-30 00:00:00</td></tr><tr><td>1959.0</td><td>4.0</td><td>2785.204</td><td>1753.7</td><td>299.356</td><td>484.052</td><td>1931.3</td><td>29.37</td><td>140.0</td><td>4.33</td><td>5.6</td><td>179.386</td><td>0.27</td><td>4.06</td><td>1959-12-31 00:00:00</td></tr><tr><td>1960.0</td><td>1.0</td><td>2847.699</td><td>1770.5</td><td>331.722</td><td>462.199</td><td>1955.5</td><td>29.54</td><td>139.6</td><td>3.5</td><td>5.2</td><td>180.007</td><td>2.31</td><td>1.19</td><td>1960-03-31 00:00:00</td></tr><tr><td>&hellip;</td><td>&hellip;</td><td>&hellip;</td><td>&hellip;</td><td>&hellip;</td><td>&hellip;</td><td>&hellip;</td><td>&hellip;</td><td>&hellip;</td><td>&hellip;</td><td>&hellip;</td><td>&hellip;</td><td>&hellip;</td><td>&hellip;</td><td>&hellip;</td></tr><tr><td>2008.0</td><td>3.0</td><td>13324.6</td><td>9267.7</td><td>1990.693</td><td>991.551</td><td>9838.3</td><td>216.889</td><td>1474.7</td><td>1.17</td><td>6.0</td><td>305.27</td><td>-3.16</td><td>4.33</td><td>2008-09-30 00:00:00</td></tr><tr><td>2008.0</td><td>4.0</td><td>13141.92</td><td>9195.3</td><td>1857.661</td><td>1007.273</td><td>9920.4</td><td>212.174</td><td>1576.5</td><td>0.12</td><td>6.9</td><td>305.952</td><td>-8.79</td><td>8.91</td><td>2008-12-31 00:00:00</td></tr><tr><td>2009.0</td><td>1.0</td><td>12925.41</td><td>9209.2</td><td>1558.494</td><td>996.287</td><td>9926.4</td><td>212.671</td><td>1592.8</td><td>0.22</td><td>8.1</td><td>306.547</td><td>0.94</td><td>-0.71</td><td>2009-03-31 00:00:00</td></tr><tr><td>2009.0</td><td>2.0</td><td>12901.504</td><td>9189.0</td><td>1456.678</td><td>1023.528</td><td>10077.5</td><td>214.469</td><td>1653.6</td><td>0.18</td><td>9.2</td><td>307.226</td><td>3.37</td><td>-3.19</td><td>2009-06-30 00:00:00</td></tr><tr><td>2009.0</td><td>3.0</td><td>12990.341</td><td>9256.0</td><td>1486.398</td><td>1044.088</td><td>10040.6</td><td>216.385</td><td>1673.9</td><td>0.12</td><td>9.6</td><td>308.013</td><td>3.56</td><td>-3.44</td><td>2009-09-30 00:00:00</td></tr></tbody></table></div>"
      ],
      "text/plain": [
       "shape: (203, 15)\n",
       "┌────────┬─────────┬───────────┬──────────┬───┬─────────┬───────┬─────────┬─────────────────────┐\n",
       "│ year   ┆ quarter ┆ realgdp   ┆ realcons ┆ … ┆ pop     ┆ infl  ┆ realint ┆ time                │\n",
       "│ ---    ┆ ---     ┆ ---       ┆ ---      ┆   ┆ ---     ┆ ---   ┆ ---     ┆ ---                 │\n",
       "│ f64    ┆ f64     ┆ f64       ┆ f64      ┆   ┆ f64     ┆ f64   ┆ f64     ┆ datetime[ns]        │\n",
       "╞════════╪═════════╪═══════════╪══════════╪═══╪═════════╪═══════╪═════════╪═════════════════════╡\n",
       "│ 1959.0 ┆ 1.0     ┆ 2710.349  ┆ 1707.4   ┆ … ┆ 177.146 ┆ 0.0   ┆ 0.0     ┆ 1959-03-31 00:00:00 │\n",
       "│ 1959.0 ┆ 2.0     ┆ 2778.801  ┆ 1733.7   ┆ … ┆ 177.83  ┆ 2.34  ┆ 0.74    ┆ 1959-06-30 00:00:00 │\n",
       "│ 1959.0 ┆ 3.0     ┆ 2775.488  ┆ 1751.8   ┆ … ┆ 178.657 ┆ 2.74  ┆ 1.09    ┆ 1959-09-30 00:00:00 │\n",
       "│ 1959.0 ┆ 4.0     ┆ 2785.204  ┆ 1753.7   ┆ … ┆ 179.386 ┆ 0.27  ┆ 4.06    ┆ 1959-12-31 00:00:00 │\n",
       "│ 1960.0 ┆ 1.0     ┆ 2847.699  ┆ 1770.5   ┆ … ┆ 180.007 ┆ 2.31  ┆ 1.19    ┆ 1960-03-31 00:00:00 │\n",
       "│ …      ┆ …       ┆ …         ┆ …        ┆ … ┆ …       ┆ …     ┆ …       ┆ …                   │\n",
       "│ 2008.0 ┆ 3.0     ┆ 13324.6   ┆ 9267.7   ┆ … ┆ 305.27  ┆ -3.16 ┆ 4.33    ┆ 2008-09-30 00:00:00 │\n",
       "│ 2008.0 ┆ 4.0     ┆ 13141.92  ┆ 9195.3   ┆ … ┆ 305.952 ┆ -8.79 ┆ 8.91    ┆ 2008-12-31 00:00:00 │\n",
       "│ 2009.0 ┆ 1.0     ┆ 12925.41  ┆ 9209.2   ┆ … ┆ 306.547 ┆ 0.94  ┆ -0.71   ┆ 2009-03-31 00:00:00 │\n",
       "│ 2009.0 ┆ 2.0     ┆ 12901.504 ┆ 9189.0   ┆ … ┆ 307.226 ┆ 3.37  ┆ -3.19   ┆ 2009-06-30 00:00:00 │\n",
       "│ 2009.0 ┆ 3.0     ┆ 12990.341 ┆ 9256.0   ┆ … ┆ 308.013 ┆ 3.56  ┆ -3.44   ┆ 2009-09-30 00:00:00 │\n",
       "└────────┴─────────┴───────────┴──────────┴───┴─────────┴───────┴─────────┴─────────────────────┘"
      ]
     },
     "execution_count": 2,
     "metadata": {},
     "output_type": "execute_result"
    }
   ],
   "source": [
    "macro_tf_polars.get_data()"
   ]
  },
  {
   "cell_type": "code",
   "execution_count": 3,
   "metadata": {},
   "outputs": [
    {
     "data": {
      "text/plain": [
       "{'_df': shape: (203, 15)\n",
       " ┌────────┬─────────┬───────────┬──────────┬───┬─────────┬───────┬─────────┬─────────────────────┐\n",
       " │ year   ┆ quarter ┆ realgdp   ┆ realcons ┆ … ┆ pop     ┆ infl  ┆ realint ┆ time                │\n",
       " │ ---    ┆ ---     ┆ ---       ┆ ---      ┆   ┆ ---     ┆ ---   ┆ ---     ┆ ---                 │\n",
       " │ f64    ┆ f64     ┆ f64       ┆ f64      ┆   ┆ f64     ┆ f64   ┆ f64     ┆ datetime[ns]        │\n",
       " ╞════════╪═════════╪═══════════╪══════════╪═══╪═════════╪═══════╪═════════╪═════════════════════╡\n",
       " │ 1959.0 ┆ 1.0     ┆ 2710.349  ┆ 1707.4   ┆ … ┆ 177.146 ┆ 0.0   ┆ 0.0     ┆ 1959-03-31 00:00:00 │\n",
       " │ 1959.0 ┆ 2.0     ┆ 2778.801  ┆ 1733.7   ┆ … ┆ 177.83  ┆ 2.34  ┆ 0.74    ┆ 1959-06-30 00:00:00 │\n",
       " │ 1959.0 ┆ 3.0     ┆ 2775.488  ┆ 1751.8   ┆ … ┆ 178.657 ┆ 2.74  ┆ 1.09    ┆ 1959-09-30 00:00:00 │\n",
       " │ 1959.0 ┆ 4.0     ┆ 2785.204  ┆ 1753.7   ┆ … ┆ 179.386 ┆ 0.27  ┆ 4.06    ┆ 1959-12-31 00:00:00 │\n",
       " │ 1960.0 ┆ 1.0     ┆ 2847.699  ┆ 1770.5   ┆ … ┆ 180.007 ┆ 2.31  ┆ 1.19    ┆ 1960-03-31 00:00:00 │\n",
       " │ …      ┆ …       ┆ …         ┆ …        ┆ … ┆ …       ┆ …     ┆ …       ┆ …                   │\n",
       " │ 2008.0 ┆ 3.0     ┆ 13324.6   ┆ 9267.7   ┆ … ┆ 305.27  ┆ -3.16 ┆ 4.33    ┆ 2008-09-30 00:00:00 │\n",
       " │ 2008.0 ┆ 4.0     ┆ 13141.92  ┆ 9195.3   ┆ … ┆ 305.952 ┆ -8.79 ┆ 8.91    ┆ 2008-12-31 00:00:00 │\n",
       " │ 2009.0 ┆ 1.0     ┆ 12925.41  ┆ 9209.2   ┆ … ┆ 306.547 ┆ 0.94  ┆ -0.71   ┆ 2009-03-31 00:00:00 │\n",
       " │ 2009.0 ┆ 2.0     ┆ 12901.504 ┆ 9189.0   ┆ … ┆ 307.226 ┆ 3.37  ┆ -3.19   ┆ 2009-06-30 00:00:00 │\n",
       " │ 2009.0 ┆ 3.0     ┆ 12990.341 ┆ 9256.0   ┆ … ┆ 308.013 ┆ 3.56  ┆ -3.44   ┆ 2009-09-30 00:00:00 │\n",
       " └────────┴─────────┴───────────┴──────────┴───┴─────────┴───────┴─────────┴─────────────────────┘,\n",
       " '_time_col': 'time',\n",
       " '_target_col': 'realgdp',\n",
       " '_id_col': None,\n",
       " '_static_cols': None,\n",
       " '_backend': 'polars',\n",
       " '_sort': True,\n",
       " '_rename_target': False}"
      ]
     },
     "execution_count": 3,
     "metadata": {},
     "output_type": "execute_result"
    }
   ],
   "source": [
    "# Accessing the instance's attributes as a dictionary\n",
    "params = macro_tf_polars.__dict__\n",
    "params"
   ]
  },
  {
   "cell_type": "code",
   "execution_count": null,
   "metadata": {},
   "outputs": [],
   "source": []
  }
 ],
 "metadata": {
  "kernelspec": {
   "display_name": "Python (temporalscope)",
   "language": "python",
   "name": "temporalscope"
  },
  "language_info": {
   "codemirror_mode": {
    "name": "ipython",
    "version": 3
   },
   "file_extension": ".py",
   "mimetype": "text/x-python",
   "name": "python",
   "nbconvert_exporter": "python",
   "pygments_lexer": "ipython3",
   "version": "3.11.7"
  }
 },
 "nbformat": 4,
 "nbformat_minor": 4
}
