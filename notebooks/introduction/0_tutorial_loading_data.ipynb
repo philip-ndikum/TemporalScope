{
 "cells": [
  {
   "cell_type": "code",
   "execution_count": 1,
   "metadata": {
    "tags": []
   },
   "outputs": [
    {
     "name": "stdout",
     "output_type": "stream",
     "text": [
      "Polars backend initialized successfully with the macrodata dataset.\n",
      "======================================================================\n",
      "Preview of the Polars DataFrame (macrodata):\n",
      "{'ds': [datetime.datetime(1959, 1, 1, 0, 0), datetime.datetime(1959, 4, 1, 0, 0), datetime.datetime(1959, 7, 1, 0, 0), datetime.datetime(1959, 10, 1, 0, 0), datetime.datetime(1960, 1, 1, 0, 0)], 'realgdp': [2710.349, 2778.801, 2775.488, 2785.204, 2847.699], 'realcons': [1707.4, 1733.7, 1751.8, 1753.7, 1770.5], 'realinv': [286.898, 310.859, 289.226, 299.356, 331.722], 'realgovt': [470.045, 481.301, 491.26, 484.052, 462.199], 'realdpi': [1886.9, 1919.7, 1916.4, 1931.3, 1955.5], 'cpi': [28.98, 29.15, 29.35, 29.37, 29.54], 'm1': [139.7, 141.7, 140.5, 140.0, 139.6], 'tbilrate': [2.82, 3.08, 3.82, 4.33, 3.5], 'unemp': [5.8, 5.1, 5.3, 5.6, 5.2], 'pop': [177.146, 177.83, 178.657, 179.386, 180.007], 'infl': [0.0, 2.34, 2.74, 0.27, 2.31], 'realint': [0.0, 0.74, 1.09, 4.06, 1.19]}\n",
      "======================================================================\n",
      "Pandas backend initialized successfully with the macrodata dataset.\n"
     ]
    }
   ],
   "source": [
    "import polars as pl\n",
    "import pandas as pd\n",
    "from statsmodels.datasets import macrodata\n",
    "from temporalscope.core.temporal_data_loader import TimeFrame as tf\n",
    "from temporalscope.core.utils import print_divider\n",
    "\n",
    "def load_macrodata():\n",
    "    \"\"\"Loads and preprocesses the macrodata dataset with a combined 'ds' column for time.\"\"\"\n",
    "    macro_df = macrodata.load_pandas().data\n",
    "    \n",
    "    # Create 'ds' column by combining 'year' and 'quarter'\n",
    "    macro_df['ds'] = pd.to_datetime(macro_df['year'].astype(int).astype(str) + '-' + \n",
    "                                    ((macro_df['quarter'] - 1) * 3 + 1).astype(int).astype(str) + '-01')\n",
    "    \n",
    "    # Drop the 'year' and 'quarter' columns\n",
    "    macro_df.drop(columns=['year', 'quarter'], inplace=True)\n",
    "    \n",
    "    # Reorder columns to place 'ds' first\n",
    "    cols = ['ds'] + [col for col in macro_df.columns if col != 'ds']\n",
    "    macro_df = macro_df[cols]\n",
    "    \n",
    "    return macro_df\n",
    "\n",
    "def initialize_time_frame(df, backend, time_col='ds'):\n",
    "    \"\"\"Initializes and verifies the TimeFrame with the specified backend.\"\"\"\n",
    "    macro_tf = tf(df, time_col=time_col, target_col=\"realgdp\", backend=backend)\n",
    "    assert macro_tf.backend == backend\n",
    "    assert macro_tf.time_col == time_col\n",
    "    assert macro_tf.target_col == \"realgdp\"\n",
    "    print(f\"{backend.capitalize()} backend initialized successfully with the macrodata dataset.\")\n",
    "    return macro_tf\n",
    "\n",
    "if __name__ == \"__main__\":\n",
    "    # Load the macrodata dataset and preprocess\n",
    "    macro_df = load_macrodata()\n",
    "\n",
    "    # Initialize TimeFrame with the Polars backend\n",
    "    macro_df_polars = pl.DataFrame(macro_df)\n",
    "    macro_pl_tf = initialize_time_frame(macro_df_polars, backend=\"polars\")\n",
    "\n",
    "    # Preview the Polars DataFrame\n",
    "    print_divider()\n",
    "    print(\"Preview of the Polars DataFrame (macrodata):\")\n",
    "    print(macro_pl_tf.get_data().head().to_dict(as_series=False))\n",
    "    print_divider()\n",
    "\n",
    "    # Initialize TimeFrame with the Pandas backend\n",
    "    macro_pd_tf = initialize_time_frame(macro_df, backend=\"pandas\")\n"
   ]
  },
  {
   "cell_type": "code",
   "execution_count": 2,
   "metadata": {
    "tags": []
   },
   "outputs": [
    {
     "data": {
      "text/html": [
       "<div><style>\n",
       ".dataframe > thead > tr,\n",
       ".dataframe > tbody > tr {\n",
       "  text-align: right;\n",
       "  white-space: pre-wrap;\n",
       "}\n",
       "</style>\n",
       "<small>shape: (203, 13)</small><table border=\"1\" class=\"dataframe\"><thead><tr><th>ds</th><th>realgdp</th><th>realcons</th><th>realinv</th><th>realgovt</th><th>realdpi</th><th>cpi</th><th>m1</th><th>tbilrate</th><th>unemp</th><th>pop</th><th>infl</th><th>realint</th></tr><tr><td>datetime[ns]</td><td>f64</td><td>f64</td><td>f64</td><td>f64</td><td>f64</td><td>f64</td><td>f64</td><td>f64</td><td>f64</td><td>f64</td><td>f64</td><td>f64</td></tr></thead><tbody><tr><td>1959-01-01 00:00:00</td><td>2710.349</td><td>1707.4</td><td>286.898</td><td>470.045</td><td>1886.9</td><td>28.98</td><td>139.7</td><td>2.82</td><td>5.8</td><td>177.146</td><td>0.0</td><td>0.0</td></tr><tr><td>1959-04-01 00:00:00</td><td>2778.801</td><td>1733.7</td><td>310.859</td><td>481.301</td><td>1919.7</td><td>29.15</td><td>141.7</td><td>3.08</td><td>5.1</td><td>177.83</td><td>2.34</td><td>0.74</td></tr><tr><td>1959-07-01 00:00:00</td><td>2775.488</td><td>1751.8</td><td>289.226</td><td>491.26</td><td>1916.4</td><td>29.35</td><td>140.5</td><td>3.82</td><td>5.3</td><td>178.657</td><td>2.74</td><td>1.09</td></tr><tr><td>1959-10-01 00:00:00</td><td>2785.204</td><td>1753.7</td><td>299.356</td><td>484.052</td><td>1931.3</td><td>29.37</td><td>140.0</td><td>4.33</td><td>5.6</td><td>179.386</td><td>0.27</td><td>4.06</td></tr><tr><td>1960-01-01 00:00:00</td><td>2847.699</td><td>1770.5</td><td>331.722</td><td>462.199</td><td>1955.5</td><td>29.54</td><td>139.6</td><td>3.5</td><td>5.2</td><td>180.007</td><td>2.31</td><td>1.19</td></tr><tr><td>&hellip;</td><td>&hellip;</td><td>&hellip;</td><td>&hellip;</td><td>&hellip;</td><td>&hellip;</td><td>&hellip;</td><td>&hellip;</td><td>&hellip;</td><td>&hellip;</td><td>&hellip;</td><td>&hellip;</td><td>&hellip;</td></tr><tr><td>2008-07-01 00:00:00</td><td>13324.6</td><td>9267.7</td><td>1990.693</td><td>991.551</td><td>9838.3</td><td>216.889</td><td>1474.7</td><td>1.17</td><td>6.0</td><td>305.27</td><td>-3.16</td><td>4.33</td></tr><tr><td>2008-10-01 00:00:00</td><td>13141.92</td><td>9195.3</td><td>1857.661</td><td>1007.273</td><td>9920.4</td><td>212.174</td><td>1576.5</td><td>0.12</td><td>6.9</td><td>305.952</td><td>-8.79</td><td>8.91</td></tr><tr><td>2009-01-01 00:00:00</td><td>12925.41</td><td>9209.2</td><td>1558.494</td><td>996.287</td><td>9926.4</td><td>212.671</td><td>1592.8</td><td>0.22</td><td>8.1</td><td>306.547</td><td>0.94</td><td>-0.71</td></tr><tr><td>2009-04-01 00:00:00</td><td>12901.504</td><td>9189.0</td><td>1456.678</td><td>1023.528</td><td>10077.5</td><td>214.469</td><td>1653.6</td><td>0.18</td><td>9.2</td><td>307.226</td><td>3.37</td><td>-3.19</td></tr><tr><td>2009-07-01 00:00:00</td><td>12990.341</td><td>9256.0</td><td>1486.398</td><td>1044.088</td><td>10040.6</td><td>216.385</td><td>1673.9</td><td>0.12</td><td>9.6</td><td>308.013</td><td>3.56</td><td>-3.44</td></tr></tbody></table></div>"
      ],
      "text/plain": [
       "shape: (203, 13)\n",
       "┌─────────────────────┬───────────┬──────────┬──────────┬───┬───────┬─────────┬───────┬─────────┐\n",
       "│ ds                  ┆ realgdp   ┆ realcons ┆ realinv  ┆ … ┆ unemp ┆ pop     ┆ infl  ┆ realint │\n",
       "│ ---                 ┆ ---       ┆ ---      ┆ ---      ┆   ┆ ---   ┆ ---     ┆ ---   ┆ ---     │\n",
       "│ datetime[ns]        ┆ f64       ┆ f64      ┆ f64      ┆   ┆ f64   ┆ f64     ┆ f64   ┆ f64     │\n",
       "╞═════════════════════╪═══════════╪══════════╪══════════╪═══╪═══════╪═════════╪═══════╪═════════╡\n",
       "│ 1959-01-01 00:00:00 ┆ 2710.349  ┆ 1707.4   ┆ 286.898  ┆ … ┆ 5.8   ┆ 177.146 ┆ 0.0   ┆ 0.0     │\n",
       "│ 1959-04-01 00:00:00 ┆ 2778.801  ┆ 1733.7   ┆ 310.859  ┆ … ┆ 5.1   ┆ 177.83  ┆ 2.34  ┆ 0.74    │\n",
       "│ 1959-07-01 00:00:00 ┆ 2775.488  ┆ 1751.8   ┆ 289.226  ┆ … ┆ 5.3   ┆ 178.657 ┆ 2.74  ┆ 1.09    │\n",
       "│ 1959-10-01 00:00:00 ┆ 2785.204  ┆ 1753.7   ┆ 299.356  ┆ … ┆ 5.6   ┆ 179.386 ┆ 0.27  ┆ 4.06    │\n",
       "│ 1960-01-01 00:00:00 ┆ 2847.699  ┆ 1770.5   ┆ 331.722  ┆ … ┆ 5.2   ┆ 180.007 ┆ 2.31  ┆ 1.19    │\n",
       "│ …                   ┆ …         ┆ …        ┆ …        ┆ … ┆ …     ┆ …       ┆ …     ┆ …       │\n",
       "│ 2008-07-01 00:00:00 ┆ 13324.6   ┆ 9267.7   ┆ 1990.693 ┆ … ┆ 6.0   ┆ 305.27  ┆ -3.16 ┆ 4.33    │\n",
       "│ 2008-10-01 00:00:00 ┆ 13141.92  ┆ 9195.3   ┆ 1857.661 ┆ … ┆ 6.9   ┆ 305.952 ┆ -8.79 ┆ 8.91    │\n",
       "│ 2009-01-01 00:00:00 ┆ 12925.41  ┆ 9209.2   ┆ 1558.494 ┆ … ┆ 8.1   ┆ 306.547 ┆ 0.94  ┆ -0.71   │\n",
       "│ 2009-04-01 00:00:00 ┆ 12901.504 ┆ 9189.0   ┆ 1456.678 ┆ … ┆ 9.2   ┆ 307.226 ┆ 3.37  ┆ -3.19   │\n",
       "│ 2009-07-01 00:00:00 ┆ 12990.341 ┆ 9256.0   ┆ 1486.398 ┆ … ┆ 9.6   ┆ 308.013 ┆ 3.56  ┆ -3.44   │\n",
       "└─────────────────────┴───────────┴──────────┴──────────┴───┴───────┴─────────┴───────┴─────────┘"
      ]
     },
     "execution_count": 2,
     "metadata": {},
     "output_type": "execute_result"
    }
   ],
   "source": [
    "macro_pl_tf.get_data()"
   ]
  },
  {
   "cell_type": "code",
   "execution_count": 5,
   "metadata": {},
   "outputs": [
    {
     "data": {
      "text/plain": [
       "{'_cfg': {'BACKENDS': {'pl': 'polars', 'pd': 'pandas'}},\n",
       " '_df': shape: (203, 13)\n",
       " ┌─────────────────────┬───────────┬──────────┬──────────┬───┬───────┬─────────┬───────┬─────────┐\n",
       " │ ds                  ┆ realgdp   ┆ realcons ┆ realinv  ┆ … ┆ unemp ┆ pop     ┆ infl  ┆ realint │\n",
       " │ ---                 ┆ ---       ┆ ---      ┆ ---      ┆   ┆ ---   ┆ ---     ┆ ---   ┆ ---     │\n",
       " │ datetime[ns]        ┆ f64       ┆ f64      ┆ f64      ┆   ┆ f64   ┆ f64     ┆ f64   ┆ f64     │\n",
       " ╞═════════════════════╪═══════════╪══════════╪══════════╪═══╪═══════╪═════════╪═══════╪═════════╡\n",
       " │ 1959-01-01 00:00:00 ┆ 2710.349  ┆ 1707.4   ┆ 286.898  ┆ … ┆ 5.8   ┆ 177.146 ┆ 0.0   ┆ 0.0     │\n",
       " │ 1959-04-01 00:00:00 ┆ 2778.801  ┆ 1733.7   ┆ 310.859  ┆ … ┆ 5.1   ┆ 177.83  ┆ 2.34  ┆ 0.74    │\n",
       " │ 1959-07-01 00:00:00 ┆ 2775.488  ┆ 1751.8   ┆ 289.226  ┆ … ┆ 5.3   ┆ 178.657 ┆ 2.74  ┆ 1.09    │\n",
       " │ 1959-10-01 00:00:00 ┆ 2785.204  ┆ 1753.7   ┆ 299.356  ┆ … ┆ 5.6   ┆ 179.386 ┆ 0.27  ┆ 4.06    │\n",
       " │ 1960-01-01 00:00:00 ┆ 2847.699  ┆ 1770.5   ┆ 331.722  ┆ … ┆ 5.2   ┆ 180.007 ┆ 2.31  ┆ 1.19    │\n",
       " │ …                   ┆ …         ┆ …        ┆ …        ┆ … ┆ …     ┆ …       ┆ …     ┆ …       │\n",
       " │ 2008-07-01 00:00:00 ┆ 13324.6   ┆ 9267.7   ┆ 1990.693 ┆ … ┆ 6.0   ┆ 305.27  ┆ -3.16 ┆ 4.33    │\n",
       " │ 2008-10-01 00:00:00 ┆ 13141.92  ┆ 9195.3   ┆ 1857.661 ┆ … ┆ 6.9   ┆ 305.952 ┆ -8.79 ┆ 8.91    │\n",
       " │ 2009-01-01 00:00:00 ┆ 12925.41  ┆ 9209.2   ┆ 1558.494 ┆ … ┆ 8.1   ┆ 306.547 ┆ 0.94  ┆ -0.71   │\n",
       " │ 2009-04-01 00:00:00 ┆ 12901.504 ┆ 9189.0   ┆ 1456.678 ┆ … ┆ 9.2   ┆ 307.226 ┆ 3.37  ┆ -3.19   │\n",
       " │ 2009-07-01 00:00:00 ┆ 12990.341 ┆ 9256.0   ┆ 1486.398 ┆ … ┆ 9.6   ┆ 308.013 ┆ 3.56  ┆ -3.44   │\n",
       " └─────────────────────┴───────────┴──────────┴──────────┴───┴───────┴─────────┴───────┴─────────┘,\n",
       " '_time_col': 'ds',\n",
       " '_target_col': 'realgdp',\n",
       " '_id_col': None,\n",
       " '_backend': 'polars',\n",
       " '_sort': True,\n",
       " '_rename_target': False,\n",
       " '_partition_cfg': {'partitions': None, 'partitioner': None}}"
      ]
     },
     "execution_count": 5,
     "metadata": {},
     "output_type": "execute_result"
    }
   ],
   "source": [
    "# Accessing the instance's attributes as a dictionary\n",
    "params = macro_pl_tf.__dict__\n",
    "params"
   ]
  },
  {
   "cell_type": "code",
   "execution_count": null,
   "metadata": {},
   "outputs": [],
   "source": []
  }
 ],
 "metadata": {
  "kernelspec": {
   "display_name": "Python (temporalscope)",
   "language": "python",
   "name": "temporalscope"
  },
  "language_info": {
   "codemirror_mode": {
    "name": "ipython",
    "version": 3
   },
   "file_extension": ".py",
   "mimetype": "text/x-python",
   "name": "python",
   "nbconvert_exporter": "python",
   "pygments_lexer": "ipython3",
   "version": "3.11.7"
  }
 },
 "nbformat": 4,
 "nbformat_minor": 4
}
