{
 "cells": [
  {
   "cell_type": "code",
   "execution_count": 1,
   "metadata": {},
   "outputs": [
    {
     "name": "stdout",
     "output_type": "stream",
     "text": [
      "Pandas backend initialized successfully with the AirPassengers dataset.\n",
      "Polars backend initialized successfully with the AirPassengers dataset.\n"
     ]
    },
    {
     "name": "stderr",
     "output_type": "stream",
     "text": [
      "/home/philip/Github/0_NdikumPlatforms/TemporalScope/temporalscope/core/temporal_data_loader.py:142: UserWarning: No available_mask column found, assuming all data is available.\n",
      "  warnings.warn(\n"
     ]
    }
   ],
   "source": [
    "import polars as pl\n",
    "import pandas as pd\n",
    "from statsmodels.datasets import macrodata\n",
    "from temporalscope.core.temporal_data_loader import TimeFrame as tf\n",
    "\n",
    "# Load the macrodata dataset from statsmodels\n",
    "macro_df = macrodata.load_pandas().data\n",
    "\n",
    "# Add a 'time' column for consistency\n",
    "macro_df['time'] = pd.date_range(start='1959-01-01', periods=len(macro_df), freq='Q')\n",
    "\n",
    "# Initialize TimeFrame with the macrodata dataset using Pandas backend\n",
    "macro_tf_pandas = tf(macro_df, time_col='time', backend='pandas')\n",
    "\n",
    "# Verify that the loader was initialized correctly with Pandas backend\n",
    "assert macro_tf_pandas.backend == 'pandas'\n",
    "assert macro_tf_pandas.time_col == 'time'\n",
    "print(\"Pandas backend initialized successfully with the macrodata dataset.\")\n",
    "\n",
    "# Convert the macrodata DataFrame to a Polars DataFrame\n",
    "macro_df_polars = pl.DataFrame(macro_df)\n",
    "\n",
    "# Initialize TimeFrame with the macrodata dataset using Polars backend\n",
    "macro_tf_polars = tf(macro_df_polars, time_col='time', backend='polars')\n",
    "\n",
    "# Verify that the loader was initialized correctly with Polars backend\n",
    "assert macro_tf_polars.backend == 'polars'\n",
    "assert macro_tf_polars.time_col == 'time'\n",
    "print(\"Polars backend initialized successfully with the macrodata dataset.\")\n"
   ]
  },
  {
   "cell_type": "code",
   "execution_count": null,
   "metadata": {},
   "outputs": [],
   "source": []
  }
 ],
 "metadata": {
  "kernelspec": {
   "display_name": "temporalscope-pF_fW976-py3.12",
   "language": "python",
   "name": "python3"
  },
  "language_info": {
   "codemirror_mode": {
    "name": "ipython",
    "version": 3
   },
   "file_extension": ".py",
   "mimetype": "text/x-python",
   "name": "python",
   "nbconvert_exporter": "python",
   "pygments_lexer": "ipython3",
   "version": "3.12.4"
  }
 },
 "nbformat": 4,
 "nbformat_minor": 2
}
