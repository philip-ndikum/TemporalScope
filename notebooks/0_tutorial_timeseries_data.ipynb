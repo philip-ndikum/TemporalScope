{
 "cells": [
  {
   "cell_type": "code",
   "execution_count": 2,
   "metadata": {},
   "outputs": [
    {
     "name": "stdout",
     "output_type": "stream",
     "text": [
      "Pandas backend initialized successfully with the AirPassengers dataset.\n",
      "Polars backend initialized successfully with the AirPassengers dataset.\n"
     ]
    },
    {
     "name": "stderr",
     "output_type": "stream",
     "text": [
      "/home/philip/Github/0_NdikumPlatforms/TemporalScope/temporalscope/temporal_data_loader.py:143: UserWarning: No available_mask column found, assuming all data is available.\n",
      "  warnings.warn(\n"
     ]
    }
   ],
   "source": [
    "import polars as pl\n",
    "import pandas as pd\n",
    "from temporalscope.temporal_data_loader import TemporalDataLoader as dl\n",
    "from statsmodels.datasets import get_rdataset\n",
    "\n",
    "# Load the AirPassengers dataset from statsmodels\n",
    "air_passengers = get_rdataset('AirPassengers', 'datasets').data\n",
    "\n",
    "# Add a 'time' column for consistency\n",
    "air_passengers['time'] = pd.date_range(start='1949-01-01', periods=len(air_passengers), freq='ME')\n",
    "\n",
    "# Initialize TemporalDataLoader with the AirPassengers dataset using Pandas backend\n",
    "data_loader_pandas = dl(air_passengers, time_col='time', backend='pandas')\n",
    "\n",
    "# Verify that the loader was initialized correctly with Pandas backend\n",
    "assert data_loader_pandas.backend == 'pandas'\n",
    "assert data_loader_pandas.time_col == 'time'\n",
    "print(\"Pandas backend initialized successfully with the AirPassengers dataset.\")\n",
    "\n",
    "# Convert the AirPassengers DataFrame to a Polars DataFrame\n",
    "air_passengers_polars = pl.DataFrame(air_passengers)\n",
    "\n",
    "# Initialize TemporalDataLoader with the AirPassengers dataset using Polars backend\n",
    "data_loader_polars = dl(air_passengers_polars, time_col='time', backend='polars')\n",
    "\n",
    "# Verify that the loader was initialized correctly with Polars backend\n",
    "assert data_loader_polars.backend == 'polars'\n",
    "assert data_loader_polars.time_col == 'time'\n",
    "print(\"Polars backend initialized successfully with the AirPassengers dataset.\")\n"
   ]
  },
  {
   "cell_type": "code",
   "execution_count": null,
   "metadata": {},
   "outputs": [],
   "source": []
  }
 ],
 "metadata": {
  "kernelspec": {
   "display_name": "temporalscope-pF_fW976-py3.12",
   "language": "python",
   "name": "python3"
  },
  "language_info": {
   "codemirror_mode": {
    "name": "ipython",
    "version": 3
   },
   "file_extension": ".py",
   "mimetype": "text/x-python",
   "name": "python",
   "nbconvert_exporter": "python",
   "pygments_lexer": "ipython3",
   "version": "3.12.4"
  }
 },
 "nbformat": 4,
 "nbformat_minor": 2
}
