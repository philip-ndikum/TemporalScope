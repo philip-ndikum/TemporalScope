{
 "cells": [
  {
   "cell_type": "code",
   "execution_count": 1,
   "id": "5ddb77b8-2b73-4c17-a0b3-0db5f938b04d",
   "metadata": {
    "tags": []
   },
   "outputs": [
    {
     "name": "stdout",
     "output_type": "stream",
     "text": [
      "Data structures are different.\n"
     ]
    }
   ],
   "source": [
    "# Assume data1 is a list and data2 is a tuple\n",
    "data1 = [100, 101, 102]\n",
    "data2 = (100, 101, 102)\n",
    "\n",
    "if type(data1) == type(data2):\n",
    "    print(\"Data structures are the same.\")\n",
    "else:\n",
    "    print(\"Data structures are different.\")"
   ]
  },
  {
   "cell_type": "code",
   "execution_count": null,
   "id": "58c896ae-6dd6-4773-8969-23c57ea88b7c",
   "metadata": {},
   "outputs": [],
   "source": []
  }
 ],
 "metadata": {
  "kernelspec": {
   "display_name": "Python (temporalscope)",
   "language": "python",
   "name": "temporalscope"
  },
  "language_info": {
   "codemirror_mode": {
    "name": "ipython",
    "version": 3
   },
   "file_extension": ".py",
   "mimetype": "text/x-python",
   "name": "python",
   "nbconvert_exporter": "python",
   "pygments_lexer": "ipython3",
   "version": "3.11.7"
  }
 },
 "nbformat": 4,
 "nbformat_minor": 5
}
